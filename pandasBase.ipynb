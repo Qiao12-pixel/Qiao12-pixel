{
 "cells": [
  {
   "cell_type": "code",
   "execution_count": 3,
   "id": "2e3d3449",
   "metadata": {},
   "outputs": [],
   "source": [
    "import pandas as pd\n",
    "import numpy as np\n",
    "\n"
   ]
  },
  {
   "cell_type": "code",
   "execution_count": 7,
   "id": "8024ab89",
   "metadata": {},
   "outputs": [
    {
     "name": "stdout",
     "output_type": "stream",
     "text": [
      "0    0.715118\n",
      "1    0.957494\n",
      "2    0.045464\n",
      "3    0.117226\n",
      "4    0.558114\n",
      "dtype: float64\n",
      "##########\n",
      "0    0.715118\n",
      "1    0.957494\n",
      "2    0.045464\n",
      "3    0.117226\n",
      "4    0.558114\n",
      "dtype: float64 <class 'pandas.core.series.Series'>\n",
      "##########\n",
      "<class 'numpy.ndarray'>\n"
     ]
    }
   ],
   "source": [
    "#通过数组创建series\n",
    "s1=pd.Series(np.random.rand(5))\n",
    "print(s1)\n",
    "print('#'*10)\n",
    "print(s1,type(s1))\n",
    "print('#'*10)\n",
    "print(type(np.random.rand(5)))"
   ]
  },
  {
   "cell_type": "code",
   "execution_count": 12,
   "id": "fc018038",
   "metadata": {},
   "outputs": [
    {
     "name": "stdout",
     "output_type": "stream",
     "text": [
      "{'a': 1, 'b': 2, 'c': 3, '5': 2}\n",
      "a    1\n",
      "b    2\n",
      "c    3\n",
      "5    2\n",
      "dtype: int64 <class 'pandas.core.series.Series'>\n"
     ]
    }
   ],
   "source": [
    "#通过dict创建series\n",
    "dic={'a':1,'b':2,'c':3,'5':2}\n",
    "print(dic)\n",
    "s2=pd.Series(dic)\n",
    "print(s2,type(s2))\n",
    "# dtype是自行推断\n"
   ]
  },
  {
   "cell_type": "code",
   "execution_count": 15,
   "id": "010caabf",
   "metadata": {},
   "outputs": [
    {
     "ename": "SyntaxError",
     "evalue": "invalid character in identifier (<ipython-input-15-6db318f3a435>, line 3)",
     "output_type": "error",
     "traceback": [
      "\u001b[1;36m  File \u001b[1;32m\"<ipython-input-15-6db318f3a435>\"\u001b[1;36m, line \u001b[1;32m3\u001b[0m\n\u001b[1;33m    print（s4）\u001b[0m\n\u001b[1;37m            ^\u001b[0m\n\u001b[1;31mSyntaxError\u001b[0m\u001b[1;31m:\u001b[0m invalid character in identifier\n"
     ]
    }
   ],
   "source": [
    "#通过标量\n",
    "s4=pd.Series(10,index=['a','b','c'])\n",
    "print（s4）"
   ]
  },
  {
   "cell_type": "code",
   "execution_count": 25,
   "id": "73122502",
   "metadata": {},
   "outputs": [
    {
     "name": "stdout",
     "output_type": "stream",
     "text": [
      "{'a': 1, 'b': 2, 'c': 3, '5': 2}\n",
      "a    1\n",
      "b    2\n",
      "c    3\n",
      "5    2\n",
      "Name: series-name, dtype: int64\n",
      "<class 'pandas.core.series.Series'>\n",
      "##########\n",
      "series-name\n",
      "hebei\n",
      "##########\n",
      "Index(['a', 'b', 'c', '5'], dtype='object') <class 'pandas.core.indexes.base.Index'>\n",
      "##########\n",
      "[1 2 3 2] <class 'numpy.ndarray'>\n"
     ]
    }
   ],
   "source": [
    "dic={'a':1,'b':2,'c':3,'5':2}\n",
    "print(dic)\n",
    "s2=pd.Series(dic,name=\"series-name\")\n",
    "print(s2)\n",
    "print(type(s2))\n",
    "print('#'*10)\n",
    "#name属性\n",
    "print(s2.name)\n",
    "print(s2.rename(\"hebei\").name)\n",
    "print('#'*10)\n",
    "#index属性\n",
    "print(s2.index,type(s2.index))\n",
    "print('#'*10)\n",
    "# value属性\n",
    "print(s2.values,type(s2.values))\n"
   ]
  },
  {
   "cell_type": "code",
   "execution_count": 38,
   "id": "7b8d3331",
   "metadata": {},
   "outputs": [
    {
     "name": "stdout",
     "output_type": "stream",
     "text": [
      "{'a': 1, 'b': 2, 'c': 3, '5': 4}\n",
      "********************\n",
      "a    1\n",
      "b    2\n",
      "c    3\n",
      "5    4\n",
      "Name: series-name, dtype: int64\n",
      "2 <class 'numpy.int64'>\n",
      "2.0 <class 'float'>\n",
      "a     1\n",
      "b    20\n",
      "c     3\n",
      "5     4\n",
      "Name: series-name, dtype: int64\n"
     ]
    }
   ],
   "source": [
    "#  pandas数据结构series索引\n",
    "#  位置索引 标签索引 切片索引 布尔索引\n",
    "#  位置索引\n",
    "dic = {'a':1,'b':2,\"c\":3,\"5\":4}\n",
    "print(dic)\n",
    "print('*'*20)\n",
    "s=pd.Series(dic,name=\"series-name\")\n",
    "print(s)\n",
    "print(s[1],type(s[1]))\n",
    "#修改类型\n",
    "print(float(s[1]),type(float(s[1])))\n",
    "#修改指定位置\n",
    "s[1]=20\n",
    "print(s)\n",
    "#标签索引\n"
   ]
  },
  {
   "cell_type": "code",
   "execution_count": 42,
   "id": "4c661832",
   "metadata": {},
   "outputs": [
    {
     "name": "stdout",
     "output_type": "stream",
     "text": [
      "{'a': 1, 'b': 2, 'c': 3, 'd': 4}\n",
      "a    1\n",
      "b    2\n",
      "c    3\n",
      "d    4\n",
      "Name: series-name, dtype: int64\n",
      "1 <class 'numpy.int64'>\n",
      "a    1\n",
      "b    2\n",
      "Name: series-name, dtype: int64\n"
     ]
    }
   ],
   "source": [
    "#标签索引\n",
    "dic = {'a':1,'b':2,\"c\":3,\"d\":4}\n",
    "print(dic)\n",
    "s=pd.Series(dic,name=\"series-name\")\n",
    "print(s)\n",
    "print(s['a'],type(s['a']))\n",
    "print(s[['a','b']])"
   ]
  },
  {
   "cell_type": "code",
   "execution_count": null,
   "id": "b4f0afd5",
   "metadata": {},
   "outputs": [],
   "source": []
  },
  {
   "cell_type": "code",
   "execution_count": null,
   "id": "640b934d",
   "metadata": {},
   "outputs": [],
   "source": []
  },
  {
   "cell_type": "code",
   "execution_count": null,
   "id": "5e4d009e",
   "metadata": {},
   "outputs": [],
   "source": []
  },
  {
   "cell_type": "code",
   "execution_count": null,
   "id": "1e70ce95",
   "metadata": {},
   "outputs": [],
   "source": []
  },
  {
   "cell_type": "code",
   "execution_count": null,
   "id": "6677da39",
   "metadata": {},
   "outputs": [],
   "source": []
  },
  {
   "cell_type": "code",
   "execution_count": null,
   "id": "63ad91dc",
   "metadata": {},
   "outputs": [],
   "source": []
  },
  {
   "cell_type": "code",
   "execution_count": null,
   "id": "ff800cd0",
   "metadata": {},
   "outputs": [],
   "source": []
  }
 ],
 "metadata": {
  "kernelspec": {
   "display_name": "Python 3",
   "language": "python",
   "name": "python3"
  },
  "language_info": {
   "codemirror_mode": {
    "name": "ipython",
    "version": 3
   },
   "file_extension": ".py",
   "mimetype": "text/x-python",
   "name": "python",
   "nbconvert_exporter": "python",
   "pygments_lexer": "ipython3",
   "version": "3.8.8"
  }
 },
 "nbformat": 4,
 "nbformat_minor": 5
}
